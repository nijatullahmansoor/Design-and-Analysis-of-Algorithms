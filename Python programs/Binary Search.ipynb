{
 "cells": [
  {
   "cell_type": "markdown",
   "id": "cross-hughes",
   "metadata": {},
   "source": [
    "### What is Binary Search Algorithm?\n",
    "\n",
    "Binary search is a fast search algorithm with run-time complexity of Ο(log n). This search algorithm works on the principle of divide and conquer. For this algorithm to work properly, the data collection should be in the sorted form.\n",
    "\n",
    "Binary search looks for a particular item by comparing the middle most item of the collection. If a match occurs, then the index of item is returned. If the middle item is greater than the item, then the item is searched in the sub-array to the left of the middle item. Otherwise, the item is searched for in the sub-array to the right of the middle item. This process continues on the sub-array as well until the size of the subarray reduces to zero.\n",
    "\n",
    "\n",
    "### How Binary Search Works?\n",
    "\n",
    "\n",
    "##### Concept of Binary Search\n",
    "In the binary search algorithm, we can find the element position using the following methods.\n",
    "\n",
    "- Recursive Method\n",
    "- Iterative Method\n",
    "\n",
    "The divide and conquer approach technique is followed by the recursive method. In this method, a function is called itself again and again until it found an element in the list.\n",
    "\n",
    "A set of statements is repeated multiple times to find an element's index position in the iterative method. The while loop is used for accomplish this task.\n",
    "\n",
    "Binary search is more effective than the linear search because we don't need to search each list index. The list must be sorted to achieve the binary search algorithm.\n",
    "\n",
    "Let's have a step by step implementation of binary search.\n",
    "\n",
    "We have a sorted list of elements, and we are looking for the index position of 45.\n",
    "\n",
    "`[12, 24, 32, 39, 45, 50, 54]`\n",
    "\n",
    "\n",
    "So, we are setting `two pointers` in our list. One pointer is used to denote the smaller value called `low` and the second pointer is used to denote the highest value called `high`.\n",
    "\n",
    "Next, we calculate the value of the `middle` element in the array.\n",
    "\n",
    "<code>mid = (low+high)/2  \n",
    "Here, the low is 0 and the high is 7.  \n",
    "mid = (0+7)/2  \n",
    "mid = 3 (Integer) </code>\n",
    "\n",
    "\n",
    "Now, we will compare the searched element to the mid index value. In this case, 32 is not equal to 45. So we need to do further comparison to find the element.\n",
    "\n",
    "If the number we are searching equal to the mid. Then return mid otherwise move to the further comparison.\n",
    "\n",
    "The number to be search is greater than the middle number, we compare the n with the middle element of the elements on the right side of mid and set low to\n",
    "\n",
    "`low = mid + 1.`\n",
    "\n",
    "Otherwise, compare the n with the middle element of the elements on the left side of mid and set high to\n",
    "\n",
    "`high = mid - 1.`\n",
    "\n",
    "\n",
    "### Divide and conquer techniques\n",
    "\n",
    "1. Compare x with the middle element. \n",
    "2. If x matches with the middle element, we return the middle index. \n",
    "3. Else If x is greater than the middle element, then x can only lie in the right half of the subarray after the middle element. So we choose the right subarray \n",
    "4. Else (x is smaller) we choose the left subarray. \n",
    "\n",
    "`[10,20,30,40,50,60,70,80,90,100,110,120,130,140,150,160]`\n",
    "\n",
    "`[0,1,2,3,4,5,6,7,8,9,10,11,12,13,14,15]`\n",
    "\n",
    "\n",
    "Low= 0; high=mid-1; =3-1=2; keyvalue=10;\n",
    "\n",
    "// more than one element, apply divided and conquer techniques\n",
    "\n",
    "Mid = (0+2)/2 = 1;\n",
    "\n",
    "\n",
    "Still again, 10 < 20, we need to find the left most subarray i.e., mid-1;\n",
    "\n",
    " \n",
    "Low=0; high=mid-1 = 1-1 =0; keyvalue=10;\n",
    "\n",
    "No need to apply divide and conquer techniques, directly apply first part of the algorithm \n",
    "\n",
    "\n",
    "\n",
    "<img src='https://static.javatpoint.com/python/images/binary-search-in-python.png'>"
   ]
  },
  {
   "cell_type": "markdown",
   "id": "through-designer",
   "metadata": {},
   "source": [
    "Repeat until the number that we are searching for is found."
   ]
  },
  {
   "cell_type": "markdown",
   "id": "increasing-conspiracy",
   "metadata": {},
   "source": [
    "First, we implement a binary search with the iterative method. We will repeat a set of statements and iterate every item of the list. We will find the middle value until the search is complete.\n",
    "\n",
    "Let's understand the following program of the iterative method."
   ]
  },
  {
   "cell_type": "markdown",
   "id": "skilled-jungle",
   "metadata": {},
   "source": [
    "### Iterative Binary Search Function "
   ]
  },
  {
   "cell_type": "code",
   "execution_count": 1,
   "id": "israeli-tuning",
   "metadata": {},
   "outputs": [],
   "source": [
    "def binary_search(my_list,n):\n",
    "    low = 0\n",
    "    high  = len(my_list)-1\n",
    "    mid = 0\n",
    "    while low <=high:\n",
    "        mid = (high+low)//2\n",
    "        # if n is smaler compare the left of \n",
    "        if my_list[mid] == n:\n",
    "            return mid\n",
    "        # in the following case the element lay on the right side of the list.\n",
    "        elif my_list[mid] < n:\n",
    "            low = mid + 1\n",
    "        # if n is greater compare to the right of mid\n",
    "        elif my_list[mid] > n:\n",
    "            high = mid -1 \n",
    "            \n",
    "        else:\n",
    "            return mid\n",
    "    # if the element was not found return the -1 \n",
    "    return -1\n"
   ]
  },
  {
   "cell_type": "code",
   "execution_count": 3,
   "id": "advisory-vietnamese",
   "metadata": {},
   "outputs": [
    {
     "name": "stdout",
     "output_type": "stream",
     "text": [
      "Which values you want to search: [12, 24, 32, 39, 45, 50, 54]\n"
     ]
    },
    {
     "name": "stdin",
     "output_type": "stream",
     "text": [
      "Please Enter the values: 24\n"
     ]
    },
    {
     "name": "stdout",
     "output_type": "stream",
     "text": [
      "The element found at index:  1\n"
     ]
    }
   ],
   "source": [
    "my_list = [12, 24, 32, 39, 45, 50, 54]  \n",
    "my_list1 = [12,24]\n",
    "print(\"Which values you want to search:\",my_list)\n",
    "x = int(input(\"Please Enter the values:\"))\n",
    "result = binary_search(my_list=my_list1,n=x)\n",
    "\n",
    "if result != -1:\n",
    "    print(\"The element found at index: \",result)\n",
    "else:\n",
    "    print(\"The element does not found.\")\n"
   ]
  },
  {
   "cell_type": "markdown",
   "id": "bulgarian-upset",
   "metadata": {},
   "source": [
    "## Recursive Binary Search\n",
    "\n",
    "The recursion method can be used in the binary search. In this, we will define a recursive function that keeps calling itself until it meets the condition.\n",
    "\n",
    "Let's understand the above program using the recursive function."
   ]
  },
  {
   "cell_type": "code",
   "execution_count": 29,
   "id": "sustainable-ground",
   "metadata": {},
   "outputs": [],
   "source": [
    "def recursive_binary_search(my_list, low, high, value):\n",
    "    # Check base case for the recursive function\n",
    "    mid=0\n",
    "    if low <= high:\n",
    "        mid = (low + high) // 2\n",
    "        # If element is available at the middle itself then return the its index   \n",
    "        if my_list[mid] == value:\n",
    "            return mid\n",
    "        # If the element is smaller than mid value, then search moves  \n",
    "        # left sublist\n",
    "        elif my_list[mid] < value:\n",
    "            return recursive_binary_search(my_list, mid+1, high, value)\n",
    "        # Else the search moves to the right sublist1 \n",
    "        else:   \n",
    "            return recursive_binary_search(my_list, low, mid-1, value)   \n",
    "    else:   \n",
    "        # Element is not available in the list1  \n",
    "        return -1  \n",
    "  "
   ]
  },
  {
   "cell_type": "code",
   "execution_count": 32,
   "id": "imperial-skirt",
   "metadata": {},
   "outputs": [
    {
     "name": "stdout",
     "output_type": "stream",
     "text": [
      "Which values you want to search: [12, 24, 32, 39, 45, 50, 54]\n"
     ]
    },
    {
     "name": "stdin",
     "output_type": "stream",
     "text": [
      "Please Enter the values: 32\n"
     ]
    },
    {
     "name": "stdout",
     "output_type": "stream",
     "text": [
      "Element is present at index  2\n"
     ]
    }
   ],
   "source": [
    "\n",
    "my_list = [12, 24, 32, 39, 45, 50, 54]  \n",
    "print(\"Which values you want to search:\",my_list)\n",
    "x = int(input(\"Please Enter the values:\"))\n",
    "\n",
    "# Function call   \n",
    "res = recursive_binary_search(my_list, 0, len(my_list)-1, x)\n",
    "\n",
    "if res != -1:\n",
    "    print(\"Element is present at index \",res)  \n",
    "else:\n",
    "    print(\"Element is not present in list\")  "
   ]
  },
  {
   "cell_type": "code",
   "execution_count": 33,
   "id": "natural-newton",
   "metadata": {},
   "outputs": [
    {
     "name": "stdout",
     "output_type": "stream",
     "text": [
      "Which values you want to search: [12, 24, 32, 39, 45, 50, 54]\n"
     ]
    },
    {
     "name": "stdin",
     "output_type": "stream",
     "text": [
      "Please Enter the values: 100\n"
     ]
    },
    {
     "name": "stdout",
     "output_type": "stream",
     "text": [
      "Element is not present in list\n"
     ]
    }
   ],
   "source": [
    "my_list = [12, 24, 32, 39, 45, 50, 54]  \n",
    "print(\"Which values you want to search:\",my_list)\n",
    "x = int(input(\"Please Enter the values:\"))\n",
    "\n",
    "# Function call   \n",
    "res = recursive_binary_search(my_list, 0, len(my_list)-1, x)\n",
    "\n",
    "if res != -1:\n",
    "    print(\"Element is present at index \",res)  \n",
    "else:\n",
    "    print(\"Element is not present in list\")  "
   ]
  },
  {
   "cell_type": "markdown",
   "id": "interim-opinion",
   "metadata": {},
   "source": [
    "# Time and Space complexity"
   ]
  },
  {
   "cell_type": "markdown",
   "id": "noted-parks",
   "metadata": {},
   "source": [
    "The time complexity of the binary search algorithm is O(log n). The best-case time complexity would be O(1) when the central index would directly match the desired value. The worst-case scenario could be the values at either extremity of the list or values not in the list. \n",
    "\n",
    "The space complexity of the binary search algorithm depends on the implementation of the algorithm. There are two ways of implementing it:\n",
    "\n",
    "1. Iterative method\n",
    "2. Recursive method\n",
    "\n",
    "\n",
    "Both methods are quite the same, with two differences in implementation. First, there is no loop in the recursive method. Second, rather than passing the new values to the next iteration of the loop, it passes them to the next recursion. In the iterative method, the iterations can be controlled through the looping conditions, while in the recursive method, the maximum and minimum are used as the boundary condition. \n",
    "\n",
    "In the iterative method, the space complexity would be O(1). While in the recursive method, the space complexity would be O(log n). \n",
    "\n",
    "## what is O(log n) really mean?\n",
    "\n",
    "`O(log N) `basically means time goes up linearly while the n goes up exponentially. So if it takes `1` second to compute `10` elements, it will take `2` seconds to compute `100` elements, `3` seconds to compute `1000` elements, and so on.\n",
    "\n",
    "It is `O(log n)` when we do divide and conquer type of algorithms e.g binary search. Another example is quick sort where each time we divide the array into two parts and each time it takes O(N) time to find a pivot element. Hence it N O(log N). \n",
    "\n",
    "\n",
    "\n",
    "\n",
    "\n",
    "## Benefits \n",
    "\n",
    "- A binary search algorithm is a fairly simple search algorithm to implement. \n",
    "- It is a significant improvement over linear search and performs almost the same in comparison to some of the harder to implement search algorithms.\n",
    "- The binary search algorithm breaks the list down in half on every iteration, rather than sequentially combing through the list. \n",
    "- On large lists, this method can be really useful.\n",
    "\n",
    "## Conclusion\n",
    "\n",
    "A binary search algorithm is a widely used algorithm in the computational domain. It is a fat and accurate search algorithm that can work well on both big and small datasets. A binary search algorithm is a simple and reliable algorithm to implement. With time and space analysis, the benefits of using this particular technique are evident. \n"
   ]
  },
  {
   "cell_type": "code",
   "execution_count": null,
   "id": "printable-hormone",
   "metadata": {},
   "outputs": [],
   "source": []
  }
 ],
 "metadata": {
  "kernelspec": {
   "display_name": "Python 3",
   "language": "python",
   "name": "python3"
  },
  "language_info": {
   "codemirror_mode": {
    "name": "ipython",
    "version": 3
   },
   "file_extension": ".py",
   "mimetype": "text/x-python",
   "name": "python",
   "nbconvert_exporter": "python",
   "pygments_lexer": "ipython3",
   "version": "3.8.8"
  }
 },
 "nbformat": 4,
 "nbformat_minor": 5
}
