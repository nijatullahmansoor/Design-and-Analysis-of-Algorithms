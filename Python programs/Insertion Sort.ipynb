{
 "cells": [
  {
   "cell_type": "markdown",
   "id": "consolidated-governor",
   "metadata": {},
   "source": [
    "# Insertion Sort\n",
    "\n",
    "Insertion sort is a simple sorting algorithm that works similar to the way you sort playing cards in your hands. The array is virtually split into a sorted and an unsorted part. Values from the unsorted part are picked and placed at the correct position in the sorted part.\n",
    "\n",
    "## Algorithm \n",
    "To sort an array of size n in ascending order: \n",
    "\n",
    "- 1: Iterate from arr[1] to arr[n] over the array. \n",
    "- 2: Compare the current element (key) to its predecessor. \n",
    "- 3: If the key element is smaller than its predecessor, compare it to the elements before. Move the greater elements one position up to make space for the swapped element.\n",
    "\n",
    "Example: \n",
    "\n",
    "<img src = 'https://media.geeksforgeeks.org/wp-content/uploads/insertionsort.png'>\n",
    "\n",
    "### Another Example: \n",
    "\n",
    "12, 11, 13, 5, 6\n",
    "\n",
    "Let us loop for i = 1 (second element of the array) to 4 (last element of the array)\n",
    "\n",
    "i = 1. Since 11 is smaller than 12, move 12 and insert 11 before 12 \n",
    "\n",
    "11, 12, 13, 5, 6\n",
    "\n",
    "i = 2. 13 will remain at its position as all elements in A[0..I-1] are smaller than 13 \n",
    "\n",
    "11, 12, 13, 5, 6\n",
    "\n",
    "i = 3. 5 will move to the beginning and all other elements from 11 to 13 will move one position ahead of their current position. \n",
    "\n",
    "5, 11, 12, 13, 6\n",
    "\n",
    "i = 4. 6 will move to position after 5, and elements from 11 to 13 will move one position ahead of their current position. \n",
    "\n",
    "5, 6, 11, 12, 13 "
   ]
  },
  {
   "cell_type": "code",
   "execution_count": 15,
   "id": "diverse-oxford",
   "metadata": {},
   "outputs": [],
   "source": [
    "# Python progrma for implementation of insertion sort\n",
    "\n",
    "# Function to do insertion sort\n",
    "\n",
    "def insertion_sort(arr):\n",
    "    \n",
    "    # Traverse through 1 to len(arr)\n",
    "    for i in range(1,len(arr)):\n",
    "        key = arr[i]\n",
    "        \n",
    "        # Move elements of arr[0..i-1], that are \n",
    "        # greater than key, to one position ahead \n",
    "        # of their current position\n",
    "        \n",
    "        j = i - 1\n",
    "        while j>=0 and key < arr[j]:\n",
    "            arr[j+1] = arr[j]\n",
    "            j = j - 1\n",
    "        arr[j+1] = key\n",
    "        print(arr)\n",
    "        "
   ]
  },
  {
   "cell_type": "code",
   "execution_count": 16,
   "id": "smoking-joshua",
   "metadata": {},
   "outputs": [
    {
     "name": "stdout",
     "output_type": "stream",
     "text": [
      "[11, 12, 13, 5, 6]\n",
      "[11, 12, 13, 5, 6]\n",
      "[5, 11, 12, 13, 6]\n",
      "[5, 6, 11, 12, 13]\n",
      "Sorted array is:\n",
      "5\n",
      "6\n",
      "11\n",
      "12\n",
      "13\n"
     ]
    }
   ],
   "source": [
    "arr = [12,11,13,5,6]\n",
    "insertion_sort(arr)\n",
    "print(\"Sorted array is:\")\n",
    "for i in range(len(arr)):\n",
    "    print(arr[i])"
   ]
  },
  {
   "cell_type": "markdown",
   "id": "detected-exclusion",
   "metadata": {},
   "source": [
    "# Time Complexity in Insertion Sort\n",
    "\n",
    "Insertion sort is a slow algorithm; sometimes, it seems too slow for extensive dataset. However, it is efficient for small lists or array.\n",
    "\n",
    "The time complexity of the insertion sort is - `O(n2)`. It uses the two loops for iteration.\n",
    "\n",
    "Another important advantage of the insertion sort is that; it is used by the popular sorting algorithm called Shell sort.\n",
    "\n",
    "The auxiliary space in insertion sort: `O(1)`"
   ]
  },
  {
   "cell_type": "markdown",
   "id": "buried-wireless",
   "metadata": {},
   "source": [
    "For more refer to this : https://iq.opengenus.org/insertion-sort-analysis/"
   ]
  },
  {
   "cell_type": "code",
   "execution_count": null,
   "id": "retained-summer",
   "metadata": {},
   "outputs": [],
   "source": []
  },
  {
   "cell_type": "code",
   "execution_count": null,
   "id": "likely-intent",
   "metadata": {},
   "outputs": [],
   "source": []
  },
  {
   "cell_type": "code",
   "execution_count": null,
   "id": "rolled-prague",
   "metadata": {},
   "outputs": [],
   "source": []
  },
  {
   "cell_type": "code",
   "execution_count": null,
   "id": "relevant-country",
   "metadata": {},
   "outputs": [],
   "source": []
  },
  {
   "cell_type": "code",
   "execution_count": null,
   "id": "naughty-height",
   "metadata": {},
   "outputs": [],
   "source": []
  },
  {
   "cell_type": "code",
   "execution_count": null,
   "id": "charged-active",
   "metadata": {},
   "outputs": [],
   "source": []
  },
  {
   "cell_type": "code",
   "execution_count": null,
   "id": "young-pledge",
   "metadata": {},
   "outputs": [],
   "source": []
  },
  {
   "cell_type": "code",
   "execution_count": null,
   "id": "dangerous-optics",
   "metadata": {},
   "outputs": [],
   "source": []
  },
  {
   "cell_type": "code",
   "execution_count": null,
   "id": "certified-italic",
   "metadata": {},
   "outputs": [],
   "source": []
  },
  {
   "cell_type": "code",
   "execution_count": null,
   "id": "consistent-killing",
   "metadata": {},
   "outputs": [],
   "source": []
  },
  {
   "cell_type": "code",
   "execution_count": null,
   "id": "inclusive-brain",
   "metadata": {},
   "outputs": [],
   "source": []
  },
  {
   "cell_type": "code",
   "execution_count": null,
   "id": "designing-growing",
   "metadata": {},
   "outputs": [],
   "source": []
  },
  {
   "cell_type": "code",
   "execution_count": null,
   "id": "pending-complement",
   "metadata": {},
   "outputs": [],
   "source": []
  },
  {
   "cell_type": "code",
   "execution_count": null,
   "id": "related-blackjack",
   "metadata": {},
   "outputs": [],
   "source": []
  }
 ],
 "metadata": {
  "kernelspec": {
   "display_name": "Python 3",
   "language": "python",
   "name": "python3"
  },
  "language_info": {
   "codemirror_mode": {
    "name": "ipython",
    "version": 3
   },
   "file_extension": ".py",
   "mimetype": "text/x-python",
   "name": "python",
   "nbconvert_exporter": "python",
   "pygments_lexer": "ipython3",
   "version": "3.8.8"
  }
 },
 "nbformat": 4,
 "nbformat_minor": 5
}
