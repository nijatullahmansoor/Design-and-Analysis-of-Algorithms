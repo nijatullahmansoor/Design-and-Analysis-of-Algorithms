{
 "cells": [
  {
   "cell_type": "markdown",
   "id": "caroline-bhutan",
   "metadata": {},
   "source": [
    "## What is a Linear Search?\n",
    "\n",
    "Linear search is a very simple search algorithm. In this type of search, a sequential search is made over all items one by one. Every item is checked and if a match is found then that particular item is returned, otherwise the search continues till the end of the data collection.\n",
    "\n",
    "<img src=\"images/linear_search.gif\" width=\"800\" height=\"400\">\n",
    "\n",
    "\n",
    "\n",
    "\n"
   ]
  },
  {
   "cell_type": "markdown",
   "id": "alpine-memory",
   "metadata": {},
   "source": [
    "## Linear Search Algorithm\n",
    "\n",
    "There is list of n elements and key value to be searched.\n",
    "\n",
    "Below is the linear search algorithm.\n",
    "\n",
    "<code>LinearSearch(list, key)  \n",
    "  for each item in the list  \n",
    "    if item == value  \n",
    "      return its index position  \n",
    "   return -1  </code>"
   ]
  },
  {
   "cell_type": "markdown",
   "id": "juvenile-arrival",
   "metadata": {},
   "source": [
    "## Python Program\n",
    "\n"
   ]
  },
  {
   "cell_type": "code",
   "execution_count": 8,
   "id": "appropriate-draft",
   "metadata": {},
   "outputs": [],
   "source": [
    "def linearSearch(my_list,values,n):\n",
    "    for i in range(0,n):\n",
    "        if values == my_list[i]:\n",
    "            return my_list[i],\"the value found in the list\"\n",
    "    \n",
    "    return \"Not found the values\""
   ]
  },
  {
   "cell_type": "code",
   "execution_count": 2,
   "id": "coral-field",
   "metadata": {},
   "outputs": [],
   "source": [
    "def linearSearch1(my_list,values):\n",
    "    for i in my_list:\n",
    "        if values == i:\n",
    "            return i,\"the value found in the list\"\n",
    "    \n",
    "    return \"Not found the values\""
   ]
  },
  {
   "cell_type": "markdown",
   "id": "advanced-spectrum",
   "metadata": {},
   "source": [
    "Now let's call the function:"
   ]
  },
  {
   "cell_type": "code",
   "execution_count": 9,
   "id": "warming-material",
   "metadata": {},
   "outputs": [
    {
     "name": "stdout",
     "output_type": "stream",
     "text": [
      "Which values you want to search: [1, 2, 3, 4, 7, 6, 5, 8, 9]\n"
     ]
    },
    {
     "name": "stdin",
     "output_type": "stream",
     "text": [
      "Please Enter the values: 8\n"
     ]
    },
    {
     "name": "stdout",
     "output_type": "stream",
     "text": [
      "(8, 'the value found in the list')\n"
     ]
    }
   ],
   "source": [
    "my_list = [1,2,3,4,7,6,5,8,9]\n",
    "n = len(my_list)\n",
    "print(\"Which values you want to search:\",my_list)\n",
    "x = int(input(\"Please Enter the values:\"))\n",
    "print(linearSearch(my_list=my_list,values=x,n=n))"
   ]
  },
  {
   "cell_type": "markdown",
   "id": "promising-beijing",
   "metadata": {},
   "source": [
    "### Explanation:\n",
    "\n",
    "In the above code, we have created a function linear_Search(), which takes three arguments - list1, length of the list, and number to search. We defined for loop and iterate each element and compare to the key value. If element is found, return the index else return -1 which means element is not present in the list."
   ]
  },
  {
   "cell_type": "markdown",
   "id": "injured-texas",
   "metadata": {},
   "source": [
    "## Linear Search Complexity\n",
    "Time complexity of linear search algorithm -\n",
    "\n",
    "- Base Case - O(1)\n",
    "- Average Case - O(n)\n",
    "- Worst Case -O(n)"
   ]
  },
  {
   "cell_type": "markdown",
   "id": "focal-blade",
   "metadata": {},
   "source": [
    "Linear search algorithm is suitable for smaller list (<100) because it check every element to get the desired number. Suppose there are 10,000 element list and desired element is available at the last position, this will consume much time by comparing with each element of the list."
   ]
  },
  {
   "cell_type": "markdown",
   "id": "consolidated-cartridge",
   "metadata": {},
   "source": [
    "- O(1) means that it takes a constant time, like 14 nanoseconds, or three minutes no matter the amount of data in the set.\n",
    "- O(n) means it takes an amount of time linear with the size of the set, so a set twice the size will take twice the time. You probably don't want to put a million objects into one of these.\n",
    "\n",
    "\n",
    "In essence, It means that it takes the same amount of time to look up a value in your collection whether you have a small number of items in your collection or very very many (within the constraints of your hardware)\n",
    "O(n) would mean that the time it takes to look up an item is proportional to the number of items in the collection.\n"
   ]
  },
  {
   "cell_type": "markdown",
   "id": "champion-bones",
   "metadata": {},
   "source": [
    "## Linear Search Algorithm:  Best case, Worst case and average case\n",
    "\n"
   ]
  },
  {
   "cell_type": "markdown",
   "id": "aerial-northern",
   "metadata": {},
   "source": [
    "### 1.Best Case\n",
    "\n"
   ]
  },
  {
   "cell_type": "code",
   "execution_count": 3,
   "id": "objective-pipeline",
   "metadata": {},
   "outputs": [
    {
     "name": "stdout",
     "output_type": "stream",
     "text": [
      "(23, 'the value found in the list')\n"
     ]
    }
   ],
   "source": [
    "my_list = [23,4412,66,10,55]\n",
    "values = 23\n",
    "print(linearSearch1(my_list,values))"
   ]
  },
  {
   "cell_type": "markdown",
   "id": "finished-radical",
   "metadata": {},
   "source": [
    "##### Keyvalue = 23;  How many comparisons are required?\n",
    "\n",
    "This the best case where the number of comparisom is `comparison=1`"
   ]
  },
  {
   "cell_type": "markdown",
   "id": "freelance-charge",
   "metadata": {},
   "source": [
    "##### Keyvalue = 55;  How many comparisons are required?\n",
    "\n",
    "This the worst case where the number of comparisom is `comparison=6`"
   ]
  },
  {
   "cell_type": "markdown",
   "id": "three-aircraft",
   "metadata": {},
   "source": [
    "#### What is average case?\n",
    "\n",
    "`Keyvalues = 23, 44, 12, 66, 10, 55`\n",
    "\n",
    "- `Average case = (Total number of comparisons)/n  `\n",
    "\n",
    "= (1+2+3+4+5+6)/6  = 21/6 = 3.5\n",
    "\n",
    "- `Total number of comparisons  = n(n+1)/2`\n",
    "- `Average = [ n(n+1)/2] /n   = (n+1)/2`"
   ]
  },
  {
   "cell_type": "code",
   "execution_count": null,
   "id": "buried-arrest",
   "metadata": {},
   "outputs": [],
   "source": []
  }
 ],
 "metadata": {
  "kernelspec": {
   "display_name": "Python 3",
   "language": "python",
   "name": "python3"
  },
  "language_info": {
   "codemirror_mode": {
    "name": "ipython",
    "version": 3
   },
   "file_extension": ".py",
   "mimetype": "text/x-python",
   "name": "python",
   "nbconvert_exporter": "python",
   "pygments_lexer": "ipython3",
   "version": "3.8.8"
  }
 },
 "nbformat": 4,
 "nbformat_minor": 5
}
